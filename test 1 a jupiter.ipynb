{
 "cells": [
  {
   "cell_type": "code",
   "execution_count": null,
   "metadata": {},
   "outputs": [],
   "source": []
  },
  {
   "cell_type": "code",
   "execution_count": 1,
   "metadata": {},
   "outputs": [
    {
     "name": "stdout",
     "output_type": "stream",
     "text": [
      "Calculating thickness using the for-loop method:\n",
      "3.25 μs ± 113 ns per loop (mean ± std. dev. of 7 runs, 100,000 loops each)\n",
      "\n",
      "Calculating thickness using the exponentiation method:\n",
      "380 ns ± 19 ns per loop (mean ± std. dev. of 7 runs, 1,000,000 loops each)\n"
     ]
    }
   ],
   "source": [
    "# Initial setup\n",
    "initial_thickness = 0.1  # 0.1 mm\n",
    "folds = 43\n",
    "\n",
    "# Define the for-loop method\n",
    "def thickness_with_loop(initial_thickness, folds):\n",
    "    thickness = initial_thickness\n",
    "    for _ in range(folds):\n",
    "        thickness *= 2  # Double the thickness\n",
    "    return thickness\n",
    "\n",
    "# Define the exponentiation method\n",
    "def thickness_with_exponentiation(initial_thickness, folds):\n",
    "    return initial_thickness * (2 ** folds)\n",
    "\n",
    "# Compare calculation times using %timeit magic command\n",
    "print(\"Calculating thickness using the for-loop method:\")\n",
    "%timeit thickness_with_loop(initial_thickness, folds)\n",
    "\n",
    "print(\"\\nCalculating thickness using the exponentiation method:\")\n",
    "%timeit thickness_with_exponentiation(initial_thickness, folds)\n"
   ]
  }
 ],
 "metadata": {
  "kernelspec": {
   "display_name": "Python 3",
   "language": "python",
   "name": "python3"
  },
  "language_info": {
   "codemirror_mode": {
    "name": "ipython",
    "version": 3
   },
   "file_extension": ".py",
   "mimetype": "text/x-python",
   "name": "python",
   "nbconvert_exporter": "python",
   "pygments_lexer": "ipython3",
   "version": "3.11.9"
  }
 },
 "nbformat": 4,
 "nbformat_minor": 2
}
